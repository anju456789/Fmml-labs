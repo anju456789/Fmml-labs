{
  "cells": [
    {
      "cell_type": "markdown",
      "metadata": {
        "id": "view-in-github",
        "colab_type": "text"
      },
      "source": [
        "<a href=\"https://colab.research.google.com/github/anju456789/Fmml-labs/blob/main/FMML_M1L3.ipynb\" target=\"_parent\"><img src=\"https://colab.research.google.com/assets/colab-badge.svg\" alt=\"Open In Colab\"/></a>"
      ]
    },
    {
      "cell_type": "markdown",
      "metadata": {
        "id": "w3yfry25JgZK"
      },
      "source": [
        "# Data Augmentation\n",
        "\n",
        "FMML Module 1, Lab 3\n",
        "\n",
        "In this lab, we will see how augmentation of data samples help in improving the machine learning performance. Augmentation is the process of creating new data samples by making reasonable modifications to the original data samples. This is particularly useful when the size of the training data is small. We will use the MNISt dataset for this lab. We will also reuse functions from the previous labs."
      ]
    },
    {
      "cell_type": "code",
      "execution_count": 1,
      "metadata": {
        "id": "xZU8_elooqP0"
      },
      "outputs": [],
      "source": [
        "import numpy as np\n",
        "import matplotlib.pyplot as plt\n",
        "from keras.datasets import mnist\n",
        "from sklearn.utils.extmath import cartesian\n",
        "from skimage.transform import rotate, AffineTransform, warp\n",
        "\n",
        "rng = np.random.default_rng(seed=42)"
      ]
    },
    {
      "cell_type": "code",
      "execution_count": 2,
      "metadata": {
        "id": "gJvmWJ58ovx5",
        "colab": {
          "base_uri": "https://localhost:8080/"
        },
        "outputId": "1677858a-a9b1-4513-d96a-59065239ce9e"
      },
      "outputs": [
        {
          "output_type": "stream",
          "name": "stdout",
          "text": [
            "Downloading data from https://storage.googleapis.com/tensorflow/tf-keras-datasets/mnist.npz\n",
            "\u001b[1m11490434/11490434\u001b[0m \u001b[32m━━━━━━━━━━━━━━━━━━━━\u001b[0m\u001b[37m\u001b[0m \u001b[1m0s\u001b[0m 0us/step\n"
          ]
        }
      ],
      "source": [
        "# loading the dataset\n",
        "(train_X, train_y), (test_X, test_y) = mnist.load_data()\n",
        "\n",
        "# normalizing the data\n",
        "train_X = train_X / 255\n",
        "test_X = test_X / 255\n",
        "\n",
        "# subsample from images and labels. Otherwise it will take too long!\n",
        "train_X = train_X[::1200, :, :].copy()\n",
        "train_y = train_y[::1200].copy()"
      ]
    },
    {
      "cell_type": "markdown",
      "metadata": {
        "id": "8XamH6z1Rt7S"
      },
      "source": [
        "Let us borrow a few functions from the previous labs:"
      ]
    },
    {
      "cell_type": "code",
      "execution_count": 3,
      "metadata": {
        "id": "Zk2W5_3BRLMS"
      },
      "outputs": [],
      "source": [
        "def NN1(traindata, trainlabel, query):\n",
        "    \"\"\"\n",
        "    This function takes in the training data, training labels and a query point\n",
        "    and returns the predicted label for the query point using the nearest neighbour algorithm\n",
        "\n",
        "    traindata: numpy array of shape (n,d) where n is the number of samples and d is the number of features\n",
        "    trainlabel: numpy array of shape (n,) where n is the number of samples\n",
        "    query: numpy array of shape (d,) where d is the number of features\n",
        "\n",
        "    returns: the predicted label for the query point which is the label of the training data which is closest to the query point\n",
        "    \"\"\"\n",
        "    diff = (\n",
        "        traindata - query\n",
        "    )  # find the difference between features. Numpy automatically takes care of the size here\n",
        "    sq = diff * diff  # square the differences\n",
        "    dist = sq.sum(1)  # add up the squares\n",
        "    label = trainlabel[np.argmin(dist)]\n",
        "    return label\n",
        "\n",
        "\n",
        "def NN(traindata, trainlabel, testdata):\n",
        "    \"\"\"\n",
        "    This function takes in the training data, training labels and test data\n",
        "    and returns the predicted labels for the test data using the nearest neighbour algorithm\n",
        "\n",
        "    traindata: numpy array of shape (n,d) where n is the number of samples and d is the number of features\n",
        "    trainlabel: numpy array of shape (n,) where n is the number of samples\n",
        "    testdata: numpy array of shape (m,d) where m is the number of test samples and d is the number of features\n",
        "\n",
        "    returns: the predicted labels for the test data which is the label of the training data which is closest to each test point\n",
        "    \"\"\"\n",
        "    traindata = traindata.reshape(-1, 28*28)\n",
        "    testdata = testdata.reshape(-1, 28*28)\n",
        "    predlabel = np.array([NN1(traindata, trainlabel, i) for i in testdata])\n",
        "    return predlabel\n",
        "\n",
        "\n",
        "def Accuracy(gtlabel, predlabel):\n",
        "    \"\"\"\n",
        "    This function takes in the ground-truth labels and predicted labels\n",
        "    and returns the accuracy of the classifier\n",
        "\n",
        "    gtlabel: numpy array of shape (n,) where n is the number of samples\n",
        "    predlabel: numpy array of shape (n,) where n is the number of samples\n",
        "\n",
        "    returns: the accuracy of the classifier which is the number of correct predictions divided by the total number of predictions\n",
        "    \"\"\"\n",
        "    assert len(gtlabel) == len(\n",
        "        predlabel\n",
        "    ), \"Length of the ground-truth labels and predicted labels should be the same\"\n",
        "    correct = (\n",
        "        gtlabel == predlabel\n",
        "    ).sum()  # count the number of times the groundtruth label is equal to the predicted label.\n",
        "    return correct / len(gtlabel)"
      ]
    },
    {
      "cell_type": "markdown",
      "metadata": {
        "id": "eGiA3LmDSJZo"
      },
      "source": [
        "In this lab, we will use the image pixels themselves as features, instead of extracting features. Each image has 28*28 pixels, so we will flatten them to 784 pixels to use as features. Note that this is very compute intensive and will take a long time. Let us first check the baseline accuracy on the test set without any augmentations. We hope that adding augmentations will help us to get better results."
      ]
    },
    {
      "cell_type": "code",
      "execution_count": 4,
      "metadata": {
        "colab": {
          "base_uri": "https://localhost:8080/"
        },
        "id": "4tQvnoasRNEV",
        "outputId": "152bcac1-9fde-4a2c-fefd-27bba058f3c9"
      },
      "outputs": [
        {
          "output_type": "stream",
          "name": "stdout",
          "text": [
            "Baseline accuracy without augmentation: 64.72 %\n"
          ]
        }
      ],
      "source": [
        "testpred = NN(train_X, train_y, test_X)\n",
        "print(\"Baseline accuracy without augmentation:\",\n",
        "      Accuracy(test_y, testpred)*100, \"%\")"
      ]
    },
    {
      "cell_type": "markdown",
      "metadata": {
        "id": "ZfkcMfhIZQ7U"
      },
      "source": [
        "Let us try to improve this accuracy using augmentations. When we create augmentations, we have to make sure that the changes reflect what will naturally occur in the dataset. For example, we should not add colour to our samples as an augmentation because they do not naturally occur. We should not also flip the images in MNIST, because flipped images have different meanings for digits. So, we will use the following augmentations:\n",
        "\n",
        "### Augmentation 1: Rotation\n",
        "\n",
        "Let us try rotating the image a little. We will use the `rotate` function from the `skimage` module. We will rotate the image by 10 degrees and -10 degrees. Rotation is a reasonable augmentation because the digit will still be recognizable even after rotation and is representative of the dataset."
      ]
    },
    {
      "cell_type": "code",
      "execution_count": 5,
      "metadata": {
        "colab": {
          "base_uri": "https://localhost:8080/",
          "height": 100
        },
        "id": "z5WolJ9fZE7L",
        "outputId": "ff073b4d-437c-4953-a675-cf7f2e4982ff"
      },
      "outputs": [
        {
          "output_type": "display_data",
          "data": {
            "text/plain": [
              "<Figure size 1500x500 with 3 Axes>"
            ],
            "image/png": "[encoded data removed]"
          },
          "metadata": {}
        }
      ],
      "source": [
        "fig, axs = plt.subplots(1, 3, figsize=(15, 5))\n",
        "\n",
        "axs[0].imshow(train_X[2], cmap=\"gray\")\n",
        "axs[0].set_title(\"Original Image\")\n",
        "\n",
        "axs[1].imshow(rotate(train_X[2], 10), cmap=\"gray\")\n",
        "axs[1].set_title(\"Rotate +10 degrees\")\n",
        "\n",
        "axs[2].imshow(rotate(train_X[2], -10), cmap=\"gray\")\n",
        "axs[2].set_title(\"Rotate -10 degrees\")\n",
        "\n",
        "plt.show()"
      ]
    },
    {
      "cell_type": "markdown",
      "metadata": {
        "id": "KE33Yxgggu0c"
      },
      "source": [
        "After rotating, the the class of the image is still the same. Let us make a function to rotate multiple images by random angles. We want a slightly different image every time we run this function. So, we generate a random number between 0 and 1 and change it so that it lies between -constraint/2 and +constraint/2"
      ]
    },
    {
      "cell_type": "code",
      "execution_count": 6,
      "metadata": {
        "id": "vyM7pUV7Reze"
      },
      "outputs": [],
      "source": [
        "def augRotate(sample, angleconstraint):\n",
        "    \"\"\"\n",
        "    This function takes in a sample and an angle constraint and returns the augmented sample\n",
        "    by rotating the sample by a random angle within the angle constraint\n",
        "\n",
        "    sample: numpy array of shape (n,d) where n is the number of samples and d is the number of features\n",
        "    angleconstraint: the maximum angle by which the sample can be rotated\n",
        "\n",
        "    returns: the augmented sample which is the input sample rotated by a random angle within the angle constraint\n",
        "    \"\"\"\n",
        "    if angleconstraint == 0:\n",
        "        return sample\n",
        "    if len(sample.shape) == 2:\n",
        "        # make sure the sample is 3 dimensional\n",
        "        sample = np.expand_dims(sample, 0)\n",
        "    angle = rng.random(len(sample))  # generate random numbers for angles\n",
        "    # make the random angle constrained\n",
        "    angle = (angle - 0.5) * angleconstraint\n",
        "    nsample = sample.copy()  # preallocate the augmented array to make it faster\n",
        "    for ii in range(len(sample)):\n",
        "        nsample[ii] = rotate(sample[ii], angle[ii])\n",
        "    return np.squeeze(nsample)  # take care if the input had only one sample."
      ]
    },
    {
      "cell_type": "markdown",
      "metadata": {
        "id": "kDk-N5VNjar9"
      },
      "source": [
        "This function returns a slightly different image each time we call it. So we can increase the number of images in the sample by any multiple."
      ]
    },
    {
      "cell_type": "code",
      "execution_count": 7,
      "metadata": {
        "colab": {
          "base_uri": "https://localhost:8080/",
          "height": 71
        },
        "id": "Vw3O9zGFgI8K",
        "outputId": "eb1b00a1-b952-4d39-bd23-6f3b4718d7ae"
      },
      "outputs": [
        {
          "output_type": "display_data",
          "data": {
            "text/plain": [
              "<Figure size 1500x500 with 5 Axes>"
            ],
            "image/png": "[encoded data removed]"
          },
          "metadata": {}
        }
      ],
      "source": [
        "sample = train_X[20]\n",
        "angleconstraint = 70\n",
        "\n",
        "fig, axs = plt.subplots(1, 5, figsize=(15, 5))\n",
        "\n",
        "axs[0].imshow(sample, cmap=\"gray\")\n",
        "axs[0].set_title(\"Original Image\")\n",
        "\n",
        "axs[1].imshow(augRotate(sample, angleconstraint), cmap=\"gray\")\n",
        "axs[1].set_title(\"Aug. Sample 1\")\n",
        "\n",
        "axs[2].imshow(augRotate(sample, angleconstraint), cmap=\"gray\")\n",
        "axs[2].set_title(\"Aug. Sample 2\")\n",
        "\n",
        "axs[3].imshow(augRotate(sample, angleconstraint), cmap=\"gray\")\n",
        "axs[3].set_title(\"Aug. Sample 3\")\n",
        "\n",
        "axs[4].imshow(augRotate(sample, angleconstraint), cmap=\"gray\")\n",
        "axs[4].set_title(\"Aug. Sample 4\")\n",
        "\n",
        "plt.show()"
      ]
    },
    {
      "cell_type": "markdown",
      "metadata": {
        "id": "ytv3NxF-kgxN"
      },
      "source": [
        "Let us augment the whole dataset and see if this improves the test accuracy"
      ]
    },
    {
      "cell_type": "code",
      "execution_count": 8,
      "metadata": {
        "colab": {
          "base_uri": "https://localhost:8080/"
        },
        "id": "iNzNAoDBkRzj",
        "outputId": "fe3c64fe-37e6-43fe-e3bf-cbe541115d76"
      },
      "outputs": [
        {
          "output_type": "stream",
          "name": "stdout",
          "text": [
            "Accuracy after rotation augmentation: 67.66 %\n"
          ]
        }
      ],
      "source": [
        "# hyperparameters\n",
        "angleconstraint = 60\n",
        "naugmentations = 5\n",
        "\n",
        "# augment\n",
        "augdata = train_X  # we include the original images also in the augmented dataset\n",
        "auglabel = train_y\n",
        "for ii in range(naugmentations):\n",
        "    augdata = np.concatenate(\n",
        "        (augdata, augRotate(train_X, angleconstraint))\n",
        "    )  # concatenate the augmented data to the set\n",
        "    auglabel = np.concatenate(\n",
        "        (auglabel, train_y)\n",
        "    )  # the labels don't change when we augment\n",
        "\n",
        "# check the test accuracy\n",
        "testpred = NN(augdata, auglabel, test_X)\n",
        "print(\"Accuracy after rotation augmentation:\", Accuracy(test_y, testpred)*100, \"%\")"
      ]
    },
    {
      "cell_type": "markdown",
      "metadata": {
        "id": "E88Nt9s1p5R6"
      },
      "source": [
        "We can notice a 3-4% improvement compared to non-augmented version of the dataset!\n",
        "\n",
        "The angle constraint is a hyperparameter which we have to tune using a validation set. (Here we are not doing that for time constraints). Let us try a grid search to find the best angle constraint. We will try angles between 0 and 90 degrees. We can also try different multiples of the original dataset. We will use the best hyperparameters to train the model and check the accuracy on the test set."
      ]
    },
    {
      "cell_type": "code",
      "execution_count": 12,
      "metadata": {
        "colab": {
          "base_uri": "https://localhost:8080/"
        },
        "id": "aiaFRLREmGp6",
        "outputId": "60e90819-0598-48df-d913-d540df4022bf"
      },
      "outputs": [
        {
          "output_type": "stream",
          "name": "stdout",
          "text": [
            "Accuracy after rotation augmentation constrained by 0 degrees is 64.72 %\n",
            "Accuracy after rotation augmentation constrained by 10 degrees is 65.88000000000001 %\n",
            "Accuracy after rotation augmentation constrained by 20 degrees is 66.86 %\n",
            "Accuracy after rotation augmentation constrained by 30 degrees is 68.53 %\n",
            "Accuracy after rotation augmentation constrained by 40 degrees is 66.69 %\n",
            "Accuracy after rotation augmentation constrained by 50 degrees is 66.5 %\n",
            "Accuracy after rotation augmentation constrained by 60 degrees is 66.72 %\n",
            "Accuracy after rotation augmentation constrained by 70 degrees is 66.02 %\n",
            "Accuracy after rotation augmentation constrained by 80 degrees is 65.36999999999999 %\n",
            "Accuracy after rotation augmentation constrained by 90 degrees is 65.61 %\n"
          ]
        }
      ],
      "source": [
        "angleconstraints = [0, 10, 20, 30, 40, 50, 60, 70, 80, 90]  # the values we want to test\n",
        "accuracies = np.zeros(\n",
        "    len(angleconstraints), dtype=float\n",
        ")  # we will save the values here\n",
        "\n",
        "for ii in range(len(angleconstraints)):\n",
        "    # create the augmented dataset\n",
        "    augdata = train_X  # we include the original images also in the augmented dataset\n",
        "    auglabel = train_y\n",
        "    for jj in range(naugmentations):\n",
        "        augdata = np.concatenate(\n",
        "            (augdata, augRotate(train_X, angleconstraints[ii]))\n",
        "        )  # concatenate the augmented data to the set\n",
        "        auglabel = np.concatenate(\n",
        "            (auglabel, train_y)\n",
        "        )  # the labels don't change when we augment\n",
        "\n",
        "    # check the test accuracy\n",
        "    testpred = NN(augdata, auglabel, test_X)\n",
        "    accuracies[ii] = Accuracy(test_y, testpred)\n",
        "    print(\n",
        "        \"Accuracy after rotation augmentation constrained by\",\n",
        "        angleconstraints[ii],\n",
        "        \"degrees is\",\n",
        "        accuracies[ii]*100,\n",
        "        \"%\",\n",
        "        flush=True,\n",
        "    )"
      ]
    },
    {
      "cell_type": "markdown",
      "metadata": {
        "id": "2oVDRYP2rxob"
      },
      "source": [
        "Let us see the best value for angle constraint: (Ideally this should be done on validation set, not test set)"
      ]
    },
    {
      "cell_type": "code",
      "execution_count": 11,
      "metadata": {
        "colab": {
          "base_uri": "https://localhost:8080/",
          "height": 261
        },
        "id": "LqthJa_pmMHz",
        "outputId": "0f11db6f-dd32-4e61-ed77-19ba174e4ab0"
      },
      "outputs": [
        {
          "output_type": "execute_result",
          "data": {
            "text/plain": [
              "<matplotlib.collections.PathCollection at 0x7ef8cd898dc0>"
            ]
          },
          "metadata": {},
          "execution_count": 11
        },
        {
          "output_type": "display_data",
          "data": {
            "text/plain": [
              "<Figure size 640x480 with 1 Axes>"
            ],
            "image/png": "[encoded data removed]"
          },
          "metadata": {}
        }
      ],
      "source": [
        "fig = plt.figure()\n",
        "ax = fig.add_axes([0.1, 0.1, 0.8, 0.8])\n",
        "# plot the variation of accuracy\n",
        "ax.plot(angleconstraints, accuracies)\n",
        "ax.set_xlabel(\"angle\")\n",
        "ax.set_ylabel(\"accuracy\")\n",
        "\n",
        "# plot the maximum accuracy\n",
        "maxind = np.argmax(accuracies)\n",
        "plt.scatter(angleconstraints[maxind], accuracies[maxind], c=\"red\")"
      ]
    },
    {
      "cell_type": "markdown",
      "metadata": {
        "id": "eJ8YuVfCuGTj"
      },
      "source": [
        "### Augmentation 2: Shear\n",
        "\n",
        "\n",
        "Let us try one more augmentation: shear. Shear is the transformation of an image in which the x-coordinate of all points is shifted by an amount proportional to the y-coordinate of the point. We will use the `AffineTransform` function from the `skimage` module to shear the image by a small amount between two numbers. We will use the same naive grid search method to find the best hyperparameters for shear. We will use the best hyperparameters to train the model and check the accuracy on the test set."
      ]
    },
    {
      "cell_type": "code",
      "execution_count": 13,
      "metadata": {
        "id": "pMiw46NLwssK"
      },
      "outputs": [],
      "source": [
        "def shear(sample, amount):\n",
        "    \"\"\"\n",
        "    This function takes in a sample and an amount and returns the augmented sample\n",
        "    by shearing the sample by the given amount\n",
        "\n",
        "    sample: numpy array of shape (n,d) where n is the number of samples and d is the number of features\n",
        "    amount: the amount by which the sample should be sheared\n",
        "\n",
        "    returns: the augmented sample which is the input sample sheared by the given amount\n",
        "    \"\"\"\n",
        "    tform = AffineTransform(shear=amount)\n",
        "    img = warp(sample, tform)\n",
        "\n",
        "    # Applying shear makes the digit off-center\n",
        "    # Since all images are centralized, we will do the same here\n",
        "    col = img.sum(0).nonzero()[0]\n",
        "    row = img.sum(1).nonzero()[0]\n",
        "    if len(col) > 0 and len(row) > 0:\n",
        "        xshift = int(sample.shape[0] / 2 - (row[0] + row[-1]) / 2)\n",
        "        yshift = int(sample.shape[1] / 2 - (col[0] + col[-1]) / 2)\n",
        "        img = np.roll(img, (xshift, yshift), (0, 1))\n",
        "    return img"
      ]
    },
    {
      "cell_type": "code",
      "execution_count": 14,
      "metadata": {
        "colab": {
          "base_uri": "https://localhost:8080/",
          "height": 81
        },
        "id": "4_u_EYpmnABK",
        "outputId": "3fe63e02-6c30-4b35-bd1d-c154d2dc8473"
      },
      "outputs": [
        {
          "output_type": "display_data",
          "data": {
            "text/plain": [
              "<Figure size 1500x500 with 4 Axes>"
            ],
            "image/png": "[encoded data removed]"
          },
          "metadata": {}
        }
      ],
      "source": [
        "sample = train_X[2]\n",
        "fig, axs = plt.subplots(1, 4, figsize=(15, 5))\n",
        "\n",
        "axs[0].imshow(sample, cmap=\"gray\")\n",
        "axs[0].set_title(\"Original Image\")\n",
        "\n",
        "axs[1].imshow(shear(sample, 0.2), cmap=\"gray\")\n",
        "axs[1].set_title(\"Amount = 0.2\")\n",
        "\n",
        "axs[2].imshow(shear(sample, 0.4), cmap=\"gray\")\n",
        "axs[2].set_title(\"Amount = 0.4\")\n",
        "\n",
        "axs[3].imshow(shear(sample, 0.6), cmap=\"gray\")\n",
        "axs[3].set_title(\"Amount = 0.6\")\n",
        "\n",
        "plt.show()"
      ]
    },
    {
      "cell_type": "markdown",
      "metadata": {
        "id": "lGnWMoyM2pK4"
      },
      "source": [
        "Create an augmentation function which applies a random shear according to the constraint we provide:"
      ]
    },
    {
      "cell_type": "code",
      "execution_count": 15,
      "metadata": {
        "id": "-qLDJyGytwP5"
      },
      "outputs": [],
      "source": [
        "def augShear(sample, shearconstraint):\n",
        "    \"\"\"\n",
        "    This function takes in a sample and a shear constraint and returns the augmented sample\n",
        "    by shearing the sample by a random amount within the shear constraint\n",
        "\n",
        "    sample: numpy array of shape (n,d) where n is the number of samples and d is the number of features\n",
        "    shearconstraint: the maximum shear by which the sample can be sheared\n",
        "\n",
        "    returns: the augmented sample which is the input sample sheared by a random amount within the shear constraint\n",
        "    \"\"\"\n",
        "    if shearconstraint == 0:\n",
        "        return sample\n",
        "    if len(sample.shape) == 2:\n",
        "        # make sure the sample is 3 dimensional\n",
        "        sample = np.expand_dims(sample, 0)\n",
        "    amt = rng.random(len(sample))  # generate random numbers for shear\n",
        "    amt = (amt - 0.5) * shearconstraint  # make the random shear constrained\n",
        "    nsample = sample.copy()  # preallocate the augmented array to make it faster\n",
        "    for ii in range(len(sample)):\n",
        "        nsample[ii] = shear(sample[ii], amt[ii])\n",
        "    return np.squeeze(nsample)  # take care if the input had only one sample."
      ]
    },
    {
      "cell_type": "markdown",
      "metadata": {
        "id": "s6lQcWW93suJ"
      },
      "source": [
        "Let us do a grid search to find the best shear constraint."
      ]
    },
    {
      "cell_type": "code",
      "execution_count": 16,
      "metadata": {
        "colab": {
          "base_uri": "https://localhost:8080/"
        },
        "id": "l_wrqPkrzBb_",
        "outputId": "84be1c08-c481-4b04-a716-8984f1ddedde"
      },
      "outputs": [
        {
          "output_type": "stream",
          "name": "stdout",
          "text": [
            "Accuracy after shear augmentation constrained by 0 is 64.72 %\n",
            "Accuracy after shear augmentation constrained by 0.2 is 62.81 %\n",
            "Accuracy after shear augmentation constrained by 0.4 is 63.93 %\n",
            "Accuracy after shear augmentation constrained by 0.6 is 66.36 %\n",
            "Accuracy after shear augmentation constrained by 0.8 is 64.61 %\n",
            "Accuracy after shear augmentation constrained by 1.0 is 66.10000000000001 %\n",
            "Accuracy after shear augmentation constrained by 1.2 is 65.64 %\n",
            "Accuracy after shear augmentation constrained by 1.4 is 65.4 %\n",
            "Accuracy after shear augmentation constrained by 1.6 is 64.72 %\n",
            "Accuracy after shear augmentation constrained by 1.8 is 62.91 %\n",
            "Accuracy after shear augmentation constrained by 2.0 is 62.67 %\n"
          ]
        }
      ],
      "source": [
        "shearconstraints = [\n",
        "    0,\n",
        "    0.2,\n",
        "    0.4,\n",
        "    0.6,\n",
        "    0.8,\n",
        "    1.0,\n",
        "    1.2,\n",
        "    1.4,\n",
        "    1.6,\n",
        "    1.8,\n",
        "    2.0,\n",
        "]  # the values we want to test\n",
        "accuracies = np.zeros(\n",
        "    len(shearconstraints), dtype=float\n",
        ")  # we will save the values here\n",
        "\n",
        "for ii in range(len(shearconstraints)):\n",
        "    # create the augmented dataset\n",
        "    augdata = train_X  # we include the original images also in the augmented dataset\n",
        "    auglabel = train_y\n",
        "    for jj in range(naugmentations):\n",
        "        augdata = np.concatenate(\n",
        "            (augdata, augShear(train_X, shearconstraints[ii]))\n",
        "        )  # concatenate the augmented data to the set\n",
        "        auglabel = np.concatenate(\n",
        "            (auglabel, train_y)\n",
        "        )  # the labels don't change when we augment\n",
        "\n",
        "    # check the test accuracy\n",
        "    testpred = NN(augdata, auglabel, test_X)\n",
        "    accuracies[ii] = Accuracy(test_y, testpred)\n",
        "    print(\n",
        "        \"Accuracy after shear augmentation constrained by\",\n",
        "        shearconstraints[ii],\n",
        "        \"is\",\n",
        "        accuracies[ii]*100,\n",
        "        \"%\",\n",
        "        flush=True,\n",
        "    )"
      ]
    },
    {
      "cell_type": "code",
      "execution_count": 17,
      "metadata": {
        "colab": {
          "base_uri": "https://localhost:8080/",
          "height": 256
        },
        "id": "EKaH-YR-zVnA",
        "outputId": "bb180b38-46c4-491b-f5a5-2d66b2c27177"
      },
      "outputs": [
        {
          "output_type": "execute_result",
          "data": {
            "text/plain": [
              "<matplotlib.collections.PathCollection at 0x7ef8cd8efc70>"
            ]
          },
          "metadata": {},
          "execution_count": 17
        },
        {
          "output_type": "display_data",
          "data": {
            "text/plain": [
              "<Figure size 640x480 with 1 Axes>"
            ],
            "image/png": "[encoded data removed]"
          },
          "metadata": {}
        }
      ],
      "source": [
        "fig = plt.figure()\n",
        "ax = fig.add_axes([0.1, 0.1, 0.8, 0.8])\n",
        "# plot the variation of accuracy\n",
        "ax.plot(shearconstraints, accuracies)\n",
        "ax.set_xlabel(\"angle\")\n",
        "ax.set_ylabel(\"accuracy\")\n",
        "\n",
        "# plot the maximum accuracy\n",
        "maxind = np.argmax(accuracies)\n",
        "plt.scatter(shearconstraints[maxind], accuracies[maxind], c=\"red\")"
      ]
    },
    {
      "cell_type": "markdown",
      "metadata": {
        "id": "ccfdbRcQ7Zgg"
      },
      "source": [
        "### Augmentation 3: Rotation + Shear\n",
        "\n",
        "\n",
        "\n",
        "We can do multiple augmentations at the same time. Here is a function to do both shear and rotation to the sample. In this case, we will have two hyperparameters."
      ]
    },
    {
      "cell_type": "code",
      "execution_count": 18,
      "metadata": {
        "id": "sh8S_Pxa0XCv"
      },
      "outputs": [],
      "source": [
        "def augRotateShear(sample, angleconstraint, shearconstraint):\n",
        "    \"\"\"\n",
        "    This function takes in a sample, an angle constraint and a shear constraint and returns the augmented sample\n",
        "    by rotating the sample by a random angle within the angle constraint and shearing the sample by a random amount within the shear constraint\n",
        "\n",
        "    sample: numpy array of shape (n,d) where n is the number of samples and d is the number of features\n",
        "    angleconstraint: the maximum angle by which the sample can be rotated\n",
        "    shearconstraint: the maximum shear by which the sample can be sheared\n",
        "\n",
        "    returns: the augmented sample which is the input sample rotated by a random angle within the angle constraint and sheared by a random amount within the shear constraint\n",
        "    \"\"\"\n",
        "    if len(sample.shape) == 2:\n",
        "        # make sure the sample is 3 dimensional\n",
        "        sample = np.expand_dims(sample, 0)\n",
        "    amt = rng.random(len(sample))  # generate random numbers for shear\n",
        "    amt = (amt - 0.5) * shearconstraint  # make the random shear constrained\n",
        "    angle = rng.random(len(sample))  # generate random numbers for angles\n",
        "    # make the random angle constrained\n",
        "    angle = (angle - 0.5) * angleconstraint\n",
        "    nsample = sample.copy()  # preallocate the augmented array to make it faster\n",
        "    for ii in range(len(sample)):\n",
        "        nsample[ii] = rotate(\n",
        "            shear(sample[ii], amt[ii]), angle[ii]\n",
        "        )  # first apply shear, then rotate\n",
        "    return np.squeeze(nsample)  # take care if the input had only one sample."
      ]
    },
    {
      "cell_type": "markdown",
      "metadata": {
        "id": "OGKyjjNx-NQ4"
      },
      "source": [
        "Since we have two hyperparameters, we have to do the grid search on a 2 dimensional matrix. We can use our previous experience to inform where to search for the best hyperparameters."
      ]
    },
    {
      "cell_type": "code",
      "execution_count": 20,
      "metadata": {
        "colab": {
          "base_uri": "https://localhost:8080/"
        },
        "id": "TJC45WRg0pOP",
        "outputId": "5da4af33-9cf9-4728-8de5-e768a9fb4d27"
      },
      "outputs": [
        {
          "output_type": "stream",
          "name": "stdout",
          "text": [
            "Accuracy after augmentation shear: 0.0 angle: 0.0 is 63.32 %\n",
            "Accuracy after augmentation shear: 0.0 angle: 10.0 is 61.029999999999994 %\n",
            "Accuracy after augmentation shear: 0.0 angle: 20.0 is 63.690000000000005 %\n",
            "Accuracy after augmentation shear: 0.0 angle: 30.0 is 61.25000000000001 %\n",
            "Accuracy after augmentation shear: 0.0 angle: 40.0 is 60.49 %\n",
            "Accuracy after augmentation shear: 0.0 angle: 50.0 is 63.22 %\n",
            "Accuracy after augmentation shear: 0.0 angle: 60.0 is 61.519999999999996 %\n",
            "Accuracy after augmentation shear: 0.2 angle: 0.0 is 63.370000000000005 %\n",
            "Accuracy after augmentation shear: 0.2 angle: 10.0 is 63.91 %\n",
            "Accuracy after augmentation shear: 0.2 angle: 20.0 is 63.89 %\n",
            "Accuracy after augmentation shear: 0.2 angle: 30.0 is 63.65 %\n",
            "Accuracy after augmentation shear: 0.2 angle: 40.0 is 63.370000000000005 %\n",
            "Accuracy after augmentation shear: 0.2 angle: 50.0 is 62.78 %\n",
            "Accuracy after augmentation shear: 0.2 angle: 60.0 is 61.46 %\n",
            "Accuracy after augmentation shear: 0.4 angle: 0.0 is 63.44 %\n",
            "Accuracy after augmentation shear: 0.4 angle: 10.0 is 64.89 %\n",
            "Accuracy after augmentation shear: 0.4 angle: 20.0 is 63.09 %\n",
            "Accuracy after augmentation shear: 0.4 angle: 30.0 is 60.23 %\n",
            "Accuracy after augmentation shear: 0.4 angle: 40.0 is 62.68 %\n",
            "Accuracy after augmentation shear: 0.4 angle: 50.0 is 60.01 %\n",
            "Accuracy after augmentation shear: 0.4 angle: 60.0 is 60.4 %\n",
            "Accuracy after augmentation shear: 0.6 angle: 0.0 is 63.43 %\n",
            "Accuracy after augmentation shear: 0.6 angle: 10.0 is 62.9 %\n",
            "Accuracy after augmentation shear: 0.6 angle: 20.0 is 58.919999999999995 %\n",
            "Accuracy after augmentation shear: 0.6 angle: 30.0 is 60.24 %\n",
            "Accuracy after augmentation shear: 0.6 angle: 40.0 is 61.480000000000004 %\n",
            "Accuracy after augmentation shear: 0.6 angle: 50.0 is 63.12 %\n",
            "Accuracy after augmentation shear: 0.6 angle: 60.0 is 63.22 %\n",
            "Accuracy after augmentation shear: 0.8 angle: 0.0 is 63.51 %\n",
            "Accuracy after augmentation shear: 0.8 angle: 10.0 is 61.029999999999994 %\n",
            "Accuracy after augmentation shear: 0.8 angle: 20.0 is 62.53999999999999 %\n",
            "Accuracy after augmentation shear: 0.8 angle: 30.0 is 63.71 %\n",
            "Accuracy after augmentation shear: 0.8 angle: 40.0 is 60.07 %\n",
            "Accuracy after augmentation shear: 0.8 angle: 50.0 is 61.629999999999995 %\n",
            "Accuracy after augmentation shear: 0.8 angle: 60.0 is 61.8 %\n",
            "Accuracy after augmentation shear: 1.0 angle: 0.0 is 63.41 %\n",
            "Accuracy after augmentation shear: 1.0 angle: 10.0 is 63.849999999999994 %\n",
            "Accuracy after augmentation shear: 1.0 angle: 20.0 is 61.79 %\n",
            "Accuracy after augmentation shear: 1.0 angle: 30.0 is 60.129999999999995 %\n",
            "Accuracy after augmentation shear: 1.0 angle: 40.0 is 62.11 %\n",
            "Accuracy after augmentation shear: 1.0 angle: 50.0 is 61.29 %\n",
            "Accuracy after augmentation shear: 1.0 angle: 60.0 is 62.839999999999996 %\n",
            "Accuracy after augmentation shear: 1.2 angle: 0.0 is 63.43 %\n",
            "Accuracy after augmentation shear: 1.2 angle: 10.0 is 61.36000000000001 %\n",
            "Accuracy after augmentation shear: 1.2 angle: 20.0 is 62.1 %\n",
            "Accuracy after augmentation shear: 1.2 angle: 30.0 is 61.77 %\n",
            "Accuracy after augmentation shear: 1.2 angle: 40.0 is 61.42999999999999 %\n",
            "Accuracy after augmentation shear: 1.2 angle: 50.0 is 62.79 %\n",
            "Accuracy after augmentation shear: 1.2 angle: 60.0 is 63.190000000000005 %\n",
            "Accuracy after augmentation shear: 1.4 angle: 0.0 is 63.39 %\n",
            "Accuracy after augmentation shear: 1.4 angle: 10.0 is 60.91 %\n",
            "Accuracy after augmentation shear: 1.4 angle: 20.0 is 62.39 %\n",
            "Accuracy after augmentation shear: 1.4 angle: 30.0 is 60.050000000000004 %\n",
            "Accuracy after augmentation shear: 1.4 angle: 40.0 is 60.34 %\n",
            "Accuracy after augmentation shear: 1.4 angle: 50.0 is 62.0 %\n",
            "Accuracy after augmentation shear: 1.4 angle: 60.0 is 62.519999999999996 %\n",
            "Accuracy after augmentation shear: 1.6 angle: 0.0 is 63.28 %\n",
            "Accuracy after augmentation shear: 1.6 angle: 10.0 is 62.63999999999999 %\n",
            "Accuracy after augmentation shear: 1.6 angle: 20.0 is 61.45 %\n",
            "Accuracy after augmentation shear: 1.6 angle: 30.0 is 59.97 %\n",
            "Accuracy after augmentation shear: 1.6 angle: 40.0 is 63.160000000000004 %\n",
            "Accuracy after augmentation shear: 1.6 angle: 50.0 is 60.85 %\n",
            "Accuracy after augmentation shear: 1.6 angle: 60.0 is 61.339999999999996 %\n"
          ]
        }
      ],
      "source": [
        "shearconstraints = [\n",
        "    0,\n",
        "    0.2,\n",
        "    0.4,\n",
        "    0.6,\n",
        "    0.8,\n",
        "    1.0,\n",
        "    1.2,\n",
        "    1.4,\n",
        "    1.6,\n",
        "]  # the values we want to test\n",
        "angleconstraints = [0, 10, 20, 30, 40, 50, 60]  # the values we want to test\n",
        "# cartesian product of both\n",
        "hyp = cartesian((shearconstraints, angleconstraints))\n",
        "\n",
        "accuracies = np.zeros(len(hyp), dtype=float)  # we will save the values here\n",
        "\n",
        "for ii in range(len(hyp)):\n",
        "    # create the augmented dataset\n",
        "    augdata = train_X  # we include the original images also in the augmented dataset\n",
        "    auglabel = train_y\n",
        "    for jj in range(naugmentations):\n",
        "        augdata = np.concatenate(\n",
        "            (augdata, augRotateShear(train_X, hyp[ii][0], hyp[ii][1]))\n",
        "        )  # concatenate the augmented data to the set\n",
        "        auglabel = np.concatenate(\n",
        "            (auglabel, train_y)\n",
        "        )  # the labels don't change when we augment\n",
        "\n",
        "    # check the test accuracy\n",
        "    testpred = NN(augdata, auglabel, test_X)\n",
        "    accuracies[ii] = Accuracy(test_y, testpred)\n",
        "    print(\n",
        "        \"Accuracy after augmentation shear:\",\n",
        "        hyp[ii][0],\n",
        "        \"angle:\",\n",
        "        hyp[ii][1],\n",
        "        \"is\",\n",
        "        accuracies[ii]*100,\n",
        "        \"%\",\n",
        "        flush=True,\n",
        "    )"
      ]
    },
    {
      "cell_type": "markdown",
      "metadata": {
        "id": "PT6CnvSDEX7a"
      },
      "source": [
        "Let us plot it two dimensionally to see which is the best value for the hyperparameters:"
      ]
    },
    {
      "cell_type": "code",
      "execution_count": 21,
      "metadata": {
        "colab": {
          "base_uri": "https://localhost:8080/",
          "height": 293
        },
        "id": "jD2i7msI_cLd",
        "outputId": "1acbf3bc-f56f-48dc-9bed-658c1659106d"
      },
      "outputs": [
        {
          "output_type": "execute_result",
          "data": {
            "text/plain": [
              "<matplotlib.colorbar.Colorbar at 0x7ef8cd5d0400>"
            ]
          },
          "metadata": {},
          "execution_count": 21
        },
        {
          "output_type": "display_data",
          "data": {
            "text/plain": [
              "<Figure size 640x480 with 2 Axes>"
            ],
            "image/png": "[encoded data removed]"
          },
          "metadata": {}
        }
      ],
      "source": [
        "fig = plt.figure()\n",
        "ax = fig.add_axes([0.1, 0.1, 0.8, 0.8])\n",
        "im = ax.imshow(\n",
        "    accuracies.reshape((len(shearconstraints), len(angleconstraints))), cmap=\"hot\"\n",
        ")\n",
        "ax.set_xlabel(\"Angle\")\n",
        "ax.set_ylabel(\"Shear\")\n",
        "ax.set_xticks(np.arange(len(angleconstraints)))\n",
        "ax.set_xticklabels(angleconstraints)\n",
        "ax.set_yticks(np.arange(len(shearconstraints)))\n",
        "ax.set_yticklabels(shearconstraints)\n",
        "plt.colorbar(im)"
      ]
    },
    {
      "cell_type": "markdown",
      "metadata": {
        "id": "OHcZWJiFJDMh"
      },
      "source": [
        "It seems that rotation and shear don't mix! The best accuracy is when rotation is zero."
      ]
    },
    {
      "cell_type": "markdown",
      "metadata": {
        "id": "PAasQo1C3x4A"
      },
      "source": [
        "## Questions\n",
        "Try these questions for better understanding. You may not be able to solve all of them.\n",
        "1. What is the best value for angle constraint and shear constraint you got? How much did the accuracy improve as compared to not using augmentations?\n",
        "Answer:\n",
        "The best values for angle and shear constraints, as well as their impact on accuracy, will depend on the specific task, dataset, and model you're using. In general:\n",
        "\n",
        "1. **Angle Constraint**: When applying rotation augmentation, typical angle constraints are often set between **±15° to ±30°**. Larger rotations may distort the image too much, especially for tasks like object recognition. A common value is **±15°** for balanced results.\n",
        "\n",
        "2. **Shear Constraint**: Shearing typically uses constraints in the range of **0.1 to 0.3** in either the x or y direction. This range tends to provide a small geometric distortion that aids the model in learning invariance without introducing too much noise.\n",
        "\n",
        "3. **Accuracy Improvement**: The improvement in accuracy due to augmentations like rotation and shear varies depending on how diverse and challenging the dataset is. For example:\n",
        "   - In datasets with less inherent variation (e.g., MNIST), augmentations might improve accuracy by **1-3%**.\n",
        "   - For more complex datasets (e.g., CIFAR-10, ImageNet), augmentations can yield improvements in the range of **5-10%** or more, especially if the dataset has limited training examples.\n",
        "\n",
        "However, in some cases, using augmentations without tuning the constraints can lead to a decrease in accuracy if the distortions are too strong for the task. The key is to strike a balance that enhances generalization without over-augmenting.\n",
        "\n",
        "Would you like me to help you with a specific model and dataset to find optimal values?\n",
        "\n",
        "2. Can you increase the accuracy by increasing the number of augmentations from each sample?\n",
        "Answer:\n",
        "Yes, increasing the number of augmentations from each sample can improve accuracy, but there are some nuances to consider:\n",
        "\n",
        "### How Increasing Augmentations Can Help:\n",
        "1. **Improves Generalization**: By creating more variations of the same sample, the model learns to be more invariant to changes like rotation, scaling, or lighting, which helps prevent overfitting. This generally leads to better generalization on unseen data.\n",
        "   \n",
        "2. **Effective with Smaller Datasets**: In cases where the dataset is small or imbalanced, generating more augmentations from each sample can compensate for the lack of diversity in the dataset.\n",
        "\n",
        "3. **Increases Training Data**: Essentially, augmentations artificially inflate the size of the dataset, which can lead to improved model robustness by providing the model with more varied training data.\n",
        "\n",
        "### Trade-offs of Too Many Augmentations:\n",
        "1. **Diminishing Returns**: After a certain point, increasing augmentations may yield diminishing returns. If the augmentations are too similar to each other, the benefit decreases. For example, small rotations of an image may not add significant new information beyond a certain threshold.\n",
        "   \n",
        "2. **Risk of Over-Augmentation**: Too much augmentation (e.g., aggressive rotations, shears, or color changes) can lead to distorted data that no longer reflects the original distribution, causing a decrease in accuracy.\n",
        "\n",
        "3. **Increased Training Time**: While more augmented samples can improve accuracy, they also increase the training time as the model needs to process more data.\n",
        "\n",
        "### Best Practices:\n",
        "- **Balanced Augmentation**: Instead of increasing the number of augmentations drastically, it’s usually better to apply diverse augmentations (rotation, scaling, flipping, etc.) in moderation.\n",
        "  \n",
        "- **Progressive Augmentation**: Start with a base level of augmentations and increase gradually, monitoring the impact on accuracy.\n",
        "\n",
        "- **Validation Set Monitoring**: Track accuracy on a validation set to ensure that the augmentations are helping and not hurting performance.\n",
        "\n",
        "In summary, increasing the number of augmentations can improve accuracy, but it’s important to avoid overdoing it. Would you like help tuning augmentations for a specific model or task?\n",
        "\n",
        "3. Try implementing a few augmentations of your own and experimenting with them. A good reference is <a href=https://www.analyticsvidhya.com/blog/2019/12/image-augmentation-deep-learning-pytorch/>here. </a>\n",
        "Answer:\n",
        "It looks like the link you provided doesn't work in this environment, but I can certainly help guide you through the process of implementing some augmentations and experimenting with them, especially if you're working with a framework like PyTorch. Here's a general outline to perform image augmentations using PyTorch's `torchvision` library:\n",
        "\n",
        "### Step 1: Install Necessary Libraries\n",
        "If you're using PyTorch, you’ll need to install `torch`, `torchvision`, and possibly some other tools like `PIL` (Python Imaging Library) for image manipulation.\n",
        "\n",
        "```bash\n",
        "pip install torch torchvision\n",
        "```\n",
        "\n",
        "### Step 2: Create Custom Image Augmentations\n",
        "\n",
        "Using `torchvision.transforms`, you can apply various augmentations such as rotation, flipping, cropping, and more. Here’s an example of how you can implement a few augmentations.\n",
        "\n",
        "```python\n",
        "import torch\n",
        "from torchvision import transforms\n",
        "from PIL import Image\n",
        "import matplotlib.pyplot as plt\n",
        "\n",
        "# Load a sample image\n",
        "image_path = \"sample_image.jpg\"  # replace with your image path\n",
        "image = Image.open(image_path)\n",
        "\n",
        "# Define augmentations\n",
        "augmentations = transforms.Compose([\n",
        "    transforms.RandomHorizontalFlip(p=0.5),           # Randomly flip the image horizontally\n",
        "    transforms.RandomRotation(degrees=30),            # Rotate the image by up to 30 degrees\n",
        "    transforms.ColorJitter(brightness=0.2, contrast=0.2, saturation=0.2),  # Change brightness, contrast, etc.\n",
        "    transforms.RandomResizedCrop(size=(224, 224)),    # Randomly crop and resize to 224x224 pixels\n",
        "])\n",
        "\n",
        "# Apply augmentations\n",
        "augmented_image = augmentations(image)\n",
        "\n",
        "# Display the augmented image\n",
        "plt.imshow(augmented_image)\n",
        "plt.axis('off')\n",
        "plt.show()\n",
        "```\n",
        "\n",
        "### Step 3: Apply Multiple Augmentations\n",
        "\n",
        "You can increase the number of augmentations per sample by applying the transformations multiple times during training. For instance, use different random transformations for each pass. Here's an example:\n",
        "\n",
        "```python\n",
        "# Define a dataset with augmentations applied to every image\n",
        "from torch.utils.data import DataLoader, Dataset\n",
        "\n",
        "class AugmentedDataset(Dataset):\n",
        "    def __init__(self, image_list, transform=None):\n",
        "        self.image_list = image_list\n",
        "        self.transform = transform\n",
        "\n",
        "    def __len__(self):\n",
        "        return len(self.image_list)\n",
        "\n",
        "    def __getitem__(self, idx):\n",
        "        image = Image.open(self.image_list[idx])\n",
        "        if self.transform:\n",
        "            image = self.transform(image)\n",
        "        return image\n",
        "\n",
        "# List of image paths (for example purposes)\n",
        "image_list = [\"image1.jpg\", \"image2.jpg\", \"image3.jpg\"]\n",
        "\n",
        "# Define the data loader\n",
        "dataset = AugmentedDataset(image_list, transform=augmentations)\n",
        "data_loader = DataLoader(dataset, batch_size=4, shuffle=True)\n",
        "\n",
        "# Iterate through the augmented dataset\n",
        "for batch in data_loader:\n",
        "    for img in batch:\n",
        "        plt.imshow(img)\n",
        "        plt.show()\n",
        "```\n",
        "\n",
        "### Step 4: Experimentation and Observing Accuracy Gains\n",
        "\n",
        "To assess the performance improvements from augmentations, you’ll need to:\n",
        "1. Train your model without augmentations and record its performance.\n",
        "2. Train your model with augmentations and compare how accuracy improves.\n",
        "\n",
        "This might involve several iterations with different augmentation strategies, including:\n",
        "- Varying the rotation angles.\n",
        "- Adjusting brightness or contrast ranges.\n",
        "- Introducing Gaussian noise, blur, or other advanced techniques.\n",
        "\n",
        "### Summary of Augmentations You Could Try:\n",
        "- **RandomHorizontalFlip**: Adds a horizontal mirror effect.\n",
        "- **RandomRotation**: Rotates the image by a random degree.\n",
        "- **ColorJitter**: Changes brightness, contrast, saturation, etc.\n",
        "- **RandomResizedCrop**: Randomly crops the image and resizes it to the desired size.\n",
        "- **GaussianBlur**: Adds blur to reduce sharpness.\n",
        "\n",
        "Would you like to explore any specific augmentations or need help in tracking accuracy improvements after applying these techniques?\n",
        "\n",
        "\n",
        "4. Try combining various augmentations. What is the highest accuracy you can get? What is the smallest training dataset you can take and still get accuracy above 50%?\n",
        "Answer:\n",
        "To combine various augmentations, I can outline an approach to experiment with and maximize accuracy while minimizing the dataset size. Below is the step-by-step process for how to go about this in a typical deep learning workflow.\n",
        "\n",
        "### Step 1: Combine Augmentations\n",
        "We will use multiple augmentations applied simultaneously to the dataset, which helps the model generalize better and improve its accuracy.\n",
        "\n",
        "```python\n",
        "import torch\n",
        "from torchvision import transforms\n",
        "from PIL import Image\n",
        "import matplotlib.pyplot as plt\n",
        "\n",
        "# Define the combined augmentations\n",
        "combined_augmentations = transforms.Compose([\n",
        "    transforms.RandomHorizontalFlip(p=0.5),           # Flip image horizontally\n",
        "    transforms.RandomVerticalFlip(p=0.5),             # Flip image vertically\n",
        "    transforms.RandomRotation(degrees=40),            # Random rotation up to 40 degrees\n",
        "    transforms.ColorJitter(brightness=0.3, contrast=0.3, saturation=0.3),  # Change brightness, contrast, etc.\n",
        "    transforms.RandomResizedCrop(size=(224, 224)),    # Randomly crop and resize to 224x224\n",
        "    transforms.RandomGrayscale(p=0.1),                # Randomly convert some images to grayscale\n",
        "    transforms.GaussianBlur(kernel_size=(5, 9), sigma=(0.1, 5)),  # Apply Gaussian blur\n",
        "    transforms.RandomAffine(degrees=30, shear=10),    # Random affine transformations\n",
        "])\n",
        "\n",
        "# Load a sample image and apply combined augmentations\n",
        "image_path = \"sample_image.jpg\"  # replace with your image path\n",
        "image = Image.open(image_path)\n",
        "augmented_image = combined_augmentations(image)\n",
        "\n",
        "# Display the augmented image\n",
        "plt.imshow(augmented_image)\n",
        "plt.axis('off')\n",
        "plt.show()\n",
        "```\n",
        "\n",
        "### Step 2: Experiment with the Dataset Size and Model Accuracy\n",
        "Once you’ve defined the augmentations, you can now train a deep learning model using these transformations. Here’s a workflow to experiment with:\n",
        "\n",
        "1. **Small Dataset**: Start by using a small dataset, say 10-20% of the original dataset, and progressively reduce it to see how augmentations help maintain accuracy. We'll aim to find the smallest training set that can still achieve at least 50% accuracy.\n",
        "   \n",
        "2. **Baseline Model (No Augmentations)**: Initially, train the model on a small dataset without augmentations and record the accuracy.\n",
        "\n",
        "3. **Model with Augmentations**: Train the model again using augmentations to compare how the performance improves, aiming to exceed 50% accuracy.\n",
        "\n",
        "### Step 3: Training Strategy\n",
        "\n",
        "Here’s how you can structure the training to experiment with different dataset sizes and monitor accuracy improvements.\n",
        "\n",
        "```python\n",
        "import torch\n",
        "import torch.nn as nn\n",
        "import torch.optim as optim\n",
        "from torchvision import datasets, models\n",
        "from torch.utils.data import DataLoader, random_split\n",
        "\n",
        "# Load dataset (for example, CIFAR-10 or any custom dataset)\n",
        "train_data = datasets.CIFAR10(root='./data', train=True, download=True, transform=combined_augmentations)\n",
        "\n",
        "# Define a small training dataset size (e.g., 10%, 20% of the full dataset)\n",
        "small_train_size = int(0.2 * len(train_data))  # Start with 20% of the dataset\n",
        "small_train_data, _ = random_split(train_data, [small_train_size, len(train_data) - small_train_size])\n",
        "\n",
        "# DataLoader for small dataset\n",
        "train_loader = DataLoader(small_train_data, batch_size=32, shuffle=True)\n",
        "\n",
        "# Define a basic model (ResNet18, for example)\n",
        "model = models.resnet18(pretrained=True)\n",
        "model.fc = nn.Linear(model.fc.in_features, 10)  # For 10 classes (CIFAR-10)\n",
        "\n",
        "# Define loss and optimizer\n",
        "criterion = nn.CrossEntropyLoss()\n",
        "optimizer = optim.Adam(model.parameters(), lr=0.001)\n",
        "\n",
        "# Training loop (basic example)\n",
        "for epoch in range(10):  # Train for 10 epochs\n",
        "    model.train()\n",
        "    running_loss = 0.0\n",
        "    for images, labels in train_loader:\n",
        "        optimizer.zero_grad()\n",
        "        outputs = model(images)\n",
        "        loss = criterion(outputs, labels)\n",
        "        loss.backward()\n",
        "        optimizer.step()\n",
        "        running_loss += loss.item()\n",
        "\n",
        "    print(f\"Epoch [{epoch+1}/10], Loss: {running_loss/len(train_loader)}\")\n",
        "\n",
        "# After training, test the model on the validation/test set to assess accuracy.\n",
        "```\n",
        "\n",
        "### Step 4: Evaluate the Model and Experiment with Dataset Size\n",
        "\n",
        "Once you've trained the model on the small dataset, assess the accuracy on a validation or test set.\n",
        "\n",
        "- Start with **20% of the dataset** and see if the accuracy is above 50%.\n",
        "- Then, progressively **reduce the dataset size** (10%, 5%, etc.) to find the smallest dataset size that still maintains accuracy above 50%.\n",
        "\n",
        "### Expected Results\n",
        "- **Without Augmentations**: The model may struggle to reach 50% accuracy with a small dataset due to overfitting and lack of diversity in the training data.\n",
        "  \n",
        "- **With Augmentations**: The combined augmentations should help improve the generalization, and even with a small dataset (say, 10-20% of the original dataset), you can expect accuracy to exceed 50%.\n",
        "\n",
        "### Key Considerations:\n",
        "1. **Dataset Complexity**: Datasets like CIFAR-10 are harder to train on small subsets, but with augmentations, it's possible to get above 50% accuracy even with 10-20% of the data.\n",
        "2. **Augmentation Strategy**: Using more aggressive augmentations such as rotations, color jittering, and affine transformations can help the model generalize even with smaller datasets.\n",
        "3. **Model Choice**: A deeper model (like ResNet50 or VGG16) may provide better results, but simpler models like ResNet18 might suffice with smaller datasets.\n",
        "\n",
        "Would you like more details on implementing this for a specific dataset, or help with optimizing training parameters for higher accuracy?\n",
        "\n",
        "Whenever you do any experiment, a good practice is to vary the hyperparameters gradually and create a graph of your results, like we did for gridsearch."
      ]
    },
    {
      "cell_type": "markdown",
      "source": [
        "> Exercise: Try to take 50 images of each digit and calculate the performance on test set.\n",
        "Answer:\n",
        "To test the performance using 50 images of each digit, here's how we can structure the experiment using a common dataset like **MNIST**, which consists of handwritten digits. We'll perform the following steps:\n",
        "\n",
        "### Step-by-Step Approach:\n",
        "\n",
        "1. **Dataset Selection**: We'll use **MNIST**, which contains 28x28 grayscale images of digits (0–9), totaling 10 classes.\n",
        "2. **Subset Creation**: We'll randomly select **50 images per digit** (a total of 500 images for training).\n",
        "3. **Data Augmentation**: We'll apply augmentations such as rotation, flipping, and other techniques to improve generalization since the dataset is small.\n",
        "4. **Model Selection**: We'll use a simple convolutional neural network (CNN) architecture to classify the digits.\n",
        "5. **Training and Evaluation**: We'll train the model on this small subset and evaluate it on the MNIST test set.\n",
        "\n",
        "### Step 1: Load and Subset the MNIST Dataset\n",
        "\n",
        "Here's how to select a subset of 50 images per digit from the MNIST dataset:\n",
        "\n",
        "```python\n",
        "import torch\n",
        "from torchvision import datasets, transforms\n",
        "from torch.utils.data import DataLoader, Subset\n",
        "import numpy as np\n",
        "\n",
        "# Define transformations (with augmentations)\n",
        "transform = transforms.Compose([\n",
        "    transforms.RandomRotation(degrees=15),\n",
        "    transforms.RandomAffine(degrees=0, translate=(0.1, 0.1)),\n",
        "    transforms.ToTensor(),\n",
        "    transforms.Normalize((0.1307,), (0.3081,)),  # Normalization for MNIST\n",
        "])\n",
        "\n",
        "# Load MNIST dataset\n",
        "train_dataset = datasets.MNIST(root='./data', train=True, download=True, transform=transform)\n",
        "test_dataset = datasets.MNIST(root='./data', train=False, download=True, transform=transform)\n",
        "\n",
        "# Function to create a subset with 50 images per digit\n",
        "def get_subset_by_class(dataset, n_per_class=50):\n",
        "    indices = []\n",
        "    targets = np.array(dataset.targets)\n",
        "    for digit in range(10):\n",
        "        digit_indices = np.where(targets == digit)[0]\n",
        "        selected_indices = np.random.choice(digit_indices, n_per_class, replace=False)\n",
        "        indices.extend(selected_indices)\n",
        "    return Subset(dataset, indices)\n",
        "\n",
        "# Get 50 images per digit from the training set\n",
        "train_subset = get_subset_by_class(train_dataset, n_per_class=50)\n",
        "\n",
        "# Create DataLoader for the small training set and test set\n",
        "train_loader = DataLoader(train_subset, batch_size=32, shuffle=True)\n",
        "test_loader = DataLoader(test_dataset, batch_size=32, shuffle=False)\n",
        "```\n",
        "\n",
        "### Step 2: Define and Train a CNN Model\n",
        "\n",
        "We'll use a simple CNN architecture for this task:\n",
        "\n",
        "```python\n",
        "import torch.nn as nn\n",
        "import torch.optim as optim\n",
        "\n",
        "# Define a simple CNN model\n",
        "class SimpleCNN(nn.Module):\n",
        "    def __init__(self):\n",
        "        super(SimpleCNN, self).__init__()\n",
        "        self.conv1 = nn.Conv2d(1, 32, kernel_size=3)\n",
        "        self.conv2 = nn.Conv2d(32, 64, kernel_size=3)\n",
        "        self.fc1 = nn.Linear(64*12*12, 128)\n",
        "        self.fc2 = nn.Linear(128, 10)\n",
        "\n",
        "    def forward(self, x):\n",
        "        x = torch.relu(self.conv1(x))\n",
        "        x = torch.max_pool2d(torch.relu(self.conv2(x)), 2)\n",
        "        x = x.view(-1, 64*12*12)\n",
        "        x = torch.relu(self.fc1(x))\n",
        "        x = self.fc2(x)\n",
        "        return x\n",
        "\n",
        "# Initialize the model, loss function, and optimizer\n",
        "model = SimpleCNN()\n",
        "criterion = nn.CrossEntropyLoss()\n",
        "optimizer = optim.Adam(model.parameters(), lr=0.001)\n",
        "\n",
        "# Training function\n",
        "def train(model, device, train_loader, optimizer, epoch):\n",
        "    model.train()\n",
        "    running_loss = 0.0\n",
        "    correct = 0\n",
        "    total = 0\n",
        "    for batch_idx, (data, target) in enumerate(train_loader):\n",
        "        data, target = data.to(device), target.to(device)\n",
        "        optimizer.zero_grad()\n",
        "        output = model(data)\n",
        "        loss = criterion(output, target)\n",
        "        loss.backward()\n",
        "        optimizer.step()\n",
        "\n",
        "        running_loss += loss.item()\n",
        "        _, predicted = torch.max(output, 1)\n",
        "        total += target.size(0)\n",
        "        correct += predicted.eq(target).sum().item()\n",
        "\n",
        "    print(f\"Train Epoch: {epoch}, Loss: {running_loss / len(train_loader)}, Accuracy: {100. * correct / total}%\")\n",
        "\n",
        "# Test function\n",
        "def test(model, device, test_loader):\n",
        "    model.eval()\n",
        "    test_loss = 0\n",
        "    correct = 0\n",
        "    with torch.no_grad():\n",
        "        for data, target in test_loader:\n",
        "            data, target = data.to(device), target.to(device)\n",
        "            output = model(data)\n",
        "            test_loss += criterion(output, target).item()\n",
        "            _, predicted = torch.max(output, 1)\n",
        "            correct += predicted.eq(target).sum().item()\n",
        "\n",
        "    test_loss /= len(test_loader)\n",
        "    accuracy = 100. * correct / len(test_loader.dataset)\n",
        "    print(f'Test set: Average loss: {test_loss:.4f}, Accuracy: {accuracy}%')\n",
        "    return accuracy\n",
        "```\n",
        "\n",
        "### Step 3: Train the Model on 50 Images Per Class\n",
        "\n",
        "Now, we can train the model on the small dataset and evaluate it on the test set:\n",
        "\n",
        "```python\n",
        "# Train the model for a few epochs and test performance\n",
        "device = torch.device(\"cuda\" if torch.cuda.is_available() else \"cpu\")\n",
        "model.to(device)\n",
        "\n",
        "n_epochs = 10  # You can train for more epochs if needed\n",
        "\n",
        "for epoch in range(1, n_epochs + 1):\n",
        "    train(model, device, train_loader, optimizer, epoch)\n",
        "    accuracy = test(model, device, test_loader)\n",
        "\n",
        "print(f\"Final Test Accuracy: {accuracy}%\")\n",
        "```\n",
        "\n",
        "### Expected Results\n",
        "\n",
        "- **Training with 50 Images per Digit**: This gives a total of 500 images in the training set. With aggressive augmentations like random rotations, affine transformations, and grayscale normalization, the model should learn to generalize well even with such a small dataset.\n",
        "  \n",
        "- **Accuracy on the Test Set**: With proper augmentations and a small CNN architecture, you can expect accuracy between **80% and 90%** on the MNIST test set, even with only 50 images per digit.\n",
        "\n",
        "### Notes:\n",
        "1. **Augmentation Benefits**: Augmentations help by artificially increasing the variety of training samples, which is especially useful when using a small dataset like this.\n",
        "2. **Overfitting Prevention**: The use of dropout layers or batch normalization could further improve generalization, especially with a small dataset.\n",
        "3. **Training Time**: Training a small CNN like this on 50 images per digit should be relatively fast, and you may not need many epochs (10–20 might suffice).\n",
        "\n",
        "Would you like to see further fine-tuning strategies or more advanced architectures to push the accuracy even higher?"
      ],
      "metadata": {
        "id": "zu590B33-Xp_"
      }
    }
  ],
  "metadata": {
    "colab": {
      "provenance": [],
      "include_colab_link": true
    },
    "kernelspec": {
      "display_name": "Python 3",
      "name": "python3"
    },
    "language_info": {
      "codemirror_mode": {
        "name": "ipython",
        "version": 3
      },
      "file_extension": ".py",
      "mimetype": "text/x-python",
      "name": "python",
      "nbconvert_exporter": "python",
      "pygments_lexer": "ipython3",
      "version": "3.10.10"
    }
  },
  "nbformat": 4,
  "nbformat_minor": 0
}